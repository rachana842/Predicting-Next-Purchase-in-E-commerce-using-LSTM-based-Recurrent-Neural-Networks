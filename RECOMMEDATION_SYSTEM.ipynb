{
 "cells": [
  {
   "cell_type": "markdown",
   "id": "aa287daa",
   "metadata": {},
   "source": [
    "# Step 1: Load the Necessary Libraries and Data"
   ]
  },
  {
   "cell_type": "code",
   "execution_count": 4,
   "id": "44733102",
   "metadata": {},
   "outputs": [
    {
     "name": "stdout",
     "output_type": "stream",
     "text": [
      "  user_id                                  purchase_sequence  \\\n",
      "0   user1                                      amazon,amazon   \n",
      "1   user2                                    flipkart,amazon   \n",
      "2   user3  flipkart,flipkart,amazon,myntra,myntra,amazon,...   \n",
      "3   user4                                      myntra,myntra   \n",
      "4   user5      amazon,amazon,myntra,flipkart,flipkart,amazon   \n",
      "\n",
      "                                          timestamps  \\\n",
      "0                              2024-01-15,2024-01-09   \n",
      "1                              2024-01-06,2024-01-14   \n",
      "2  2024-02-18,2024-01-22,2024-01-07,2024-01-06,20...   \n",
      "3                              2024-01-25,2024-01-18   \n",
      "4  2024-02-16,2024-01-16,2024-01-11,2024-01-30,20...   \n",
      "\n",
      "                              amounts  \\\n",
      "0                             427,102   \n",
      "1                             169,308   \n",
      "2  359,185,463,72,423,285,324,113,243   \n",
      "3                             282,375   \n",
      "4             377,402,335,162,400,216   \n",
      "\n",
      "                                          categories  \n",
      "0                                        home,beauty  \n",
      "1                                         home,books  \n",
      "2  electronics,fashion,home,beauty,fashion,electr...  \n",
      "3                                 beauty,electronics  \n",
      "4    beauty,home,fashion,electronics,fashion,fashion  \n"
     ]
    }
   ],
   "source": [
    "import pandas as pd\n",
    "import numpy as np\n",
    "import random\n",
    "# Load the dataset\n",
    "df = pd.read_csv('C:\\\\Users\\\\THASWIKA AIRA\\\\Downloads\\\\user_purchase_data.csv')\n",
    "print(df.head())\n"
   ]
  },
  {
   "cell_type": "code",
   "execution_count": 5,
   "id": "27bf9cc3",
   "metadata": {},
   "outputs": [
    {
     "data": {
      "text/html": [
       "<div>\n",
       "<style scoped>\n",
       "    .dataframe tbody tr th:only-of-type {\n",
       "        vertical-align: middle;\n",
       "    }\n",
       "\n",
       "    .dataframe tbody tr th {\n",
       "        vertical-align: top;\n",
       "    }\n",
       "\n",
       "    .dataframe thead th {\n",
       "        text-align: right;\n",
       "    }\n",
       "</style>\n",
       "<table border=\"1\" class=\"dataframe\">\n",
       "  <thead>\n",
       "    <tr style=\"text-align: right;\">\n",
       "      <th></th>\n",
       "      <th>user_id</th>\n",
       "      <th>purchase_sequence</th>\n",
       "      <th>timestamps</th>\n",
       "      <th>amounts</th>\n",
       "      <th>categories</th>\n",
       "    </tr>\n",
       "  </thead>\n",
       "  <tbody>\n",
       "    <tr>\n",
       "      <th>0</th>\n",
       "      <td>user1</td>\n",
       "      <td>amazon,amazon</td>\n",
       "      <td>2024-01-15,2024-01-09</td>\n",
       "      <td>427,102</td>\n",
       "      <td>home,beauty</td>\n",
       "    </tr>\n",
       "    <tr>\n",
       "      <th>1</th>\n",
       "      <td>user2</td>\n",
       "      <td>flipkart,amazon</td>\n",
       "      <td>2024-01-06,2024-01-14</td>\n",
       "      <td>169,308</td>\n",
       "      <td>home,books</td>\n",
       "    </tr>\n",
       "    <tr>\n",
       "      <th>2</th>\n",
       "      <td>user3</td>\n",
       "      <td>flipkart,flipkart,amazon,myntra,myntra,amazon,...</td>\n",
       "      <td>2024-02-18,2024-01-22,2024-01-07,2024-01-06,20...</td>\n",
       "      <td>359,185,463,72,423,285,324,113,243</td>\n",
       "      <td>electronics,fashion,home,beauty,fashion,electr...</td>\n",
       "    </tr>\n",
       "    <tr>\n",
       "      <th>3</th>\n",
       "      <td>user4</td>\n",
       "      <td>myntra,myntra</td>\n",
       "      <td>2024-01-25,2024-01-18</td>\n",
       "      <td>282,375</td>\n",
       "      <td>beauty,electronics</td>\n",
       "    </tr>\n",
       "    <tr>\n",
       "      <th>4</th>\n",
       "      <td>user5</td>\n",
       "      <td>amazon,amazon,myntra,flipkart,flipkart,amazon</td>\n",
       "      <td>2024-02-16,2024-01-16,2024-01-11,2024-01-30,20...</td>\n",
       "      <td>377,402,335,162,400,216</td>\n",
       "      <td>beauty,home,fashion,electronics,fashion,fashion</td>\n",
       "    </tr>\n",
       "    <tr>\n",
       "      <th>...</th>\n",
       "      <td>...</td>\n",
       "      <td>...</td>\n",
       "      <td>...</td>\n",
       "      <td>...</td>\n",
       "      <td>...</td>\n",
       "    </tr>\n",
       "    <tr>\n",
       "      <th>95</th>\n",
       "      <td>user96</td>\n",
       "      <td>myntra,flipkart,amazon,amazon,amazon,myntra</td>\n",
       "      <td>2024-01-18,2024-01-09,2024-02-10,2024-01-20,20...</td>\n",
       "      <td>97,307,378,136,353,347</td>\n",
       "      <td>electronics,home,home,home,beauty,books</td>\n",
       "    </tr>\n",
       "    <tr>\n",
       "      <th>96</th>\n",
       "      <td>user97</td>\n",
       "      <td>amazon</td>\n",
       "      <td>2024-03-01</td>\n",
       "      <td>378</td>\n",
       "      <td>home</td>\n",
       "    </tr>\n",
       "    <tr>\n",
       "      <th>97</th>\n",
       "      <td>user98</td>\n",
       "      <td>flipkart,myntra,flipkart,flipkart,flipkart</td>\n",
       "      <td>2024-02-10,2024-02-04,2024-01-19,2024-02-11,20...</td>\n",
       "      <td>297,175,462,463,400</td>\n",
       "      <td>books,books,home,electronics,books</td>\n",
       "    </tr>\n",
       "    <tr>\n",
       "      <th>98</th>\n",
       "      <td>user99</td>\n",
       "      <td>amazon,flipkart,amazon,myntra,myntra,myntra,my...</td>\n",
       "      <td>2024-01-24,2024-02-02,2024-02-05,2024-01-07,20...</td>\n",
       "      <td>186,280,176,122,99,75,198,246</td>\n",
       "      <td>beauty,books,beauty,beauty,beauty,beauty,home,...</td>\n",
       "    </tr>\n",
       "    <tr>\n",
       "      <th>99</th>\n",
       "      <td>user100</td>\n",
       "      <td>flipkart,flipkart,flipkart</td>\n",
       "      <td>2024-01-20,2024-02-01,2024-01-02</td>\n",
       "      <td>96,251,308</td>\n",
       "      <td>books,fashion,books</td>\n",
       "    </tr>\n",
       "  </tbody>\n",
       "</table>\n",
       "<p>100 rows × 5 columns</p>\n",
       "</div>"
      ],
      "text/plain": [
       "    user_id                                  purchase_sequence  \\\n",
       "0     user1                                      amazon,amazon   \n",
       "1     user2                                    flipkart,amazon   \n",
       "2     user3  flipkart,flipkart,amazon,myntra,myntra,amazon,...   \n",
       "3     user4                                      myntra,myntra   \n",
       "4     user5      amazon,amazon,myntra,flipkart,flipkart,amazon   \n",
       "..      ...                                                ...   \n",
       "95   user96        myntra,flipkart,amazon,amazon,amazon,myntra   \n",
       "96   user97                                             amazon   \n",
       "97   user98         flipkart,myntra,flipkart,flipkart,flipkart   \n",
       "98   user99  amazon,flipkart,amazon,myntra,myntra,myntra,my...   \n",
       "99  user100                         flipkart,flipkart,flipkart   \n",
       "\n",
       "                                           timestamps  \\\n",
       "0                               2024-01-15,2024-01-09   \n",
       "1                               2024-01-06,2024-01-14   \n",
       "2   2024-02-18,2024-01-22,2024-01-07,2024-01-06,20...   \n",
       "3                               2024-01-25,2024-01-18   \n",
       "4   2024-02-16,2024-01-16,2024-01-11,2024-01-30,20...   \n",
       "..                                                ...   \n",
       "95  2024-01-18,2024-01-09,2024-02-10,2024-01-20,20...   \n",
       "96                                         2024-03-01   \n",
       "97  2024-02-10,2024-02-04,2024-01-19,2024-02-11,20...   \n",
       "98  2024-01-24,2024-02-02,2024-02-05,2024-01-07,20...   \n",
       "99                   2024-01-20,2024-02-01,2024-01-02   \n",
       "\n",
       "                               amounts  \\\n",
       "0                              427,102   \n",
       "1                              169,308   \n",
       "2   359,185,463,72,423,285,324,113,243   \n",
       "3                              282,375   \n",
       "4              377,402,335,162,400,216   \n",
       "..                                 ...   \n",
       "95              97,307,378,136,353,347   \n",
       "96                                 378   \n",
       "97                 297,175,462,463,400   \n",
       "98       186,280,176,122,99,75,198,246   \n",
       "99                          96,251,308   \n",
       "\n",
       "                                           categories  \n",
       "0                                         home,beauty  \n",
       "1                                          home,books  \n",
       "2   electronics,fashion,home,beauty,fashion,electr...  \n",
       "3                                  beauty,electronics  \n",
       "4     beauty,home,fashion,electronics,fashion,fashion  \n",
       "..                                                ...  \n",
       "95            electronics,home,home,home,beauty,books  \n",
       "96                                               home  \n",
       "97                 books,books,home,electronics,books  \n",
       "98  beauty,books,beauty,beauty,beauty,beauty,home,...  \n",
       "99                                books,fashion,books  \n",
       "\n",
       "[100 rows x 5 columns]"
      ]
     },
     "execution_count": 5,
     "metadata": {},
     "output_type": "execute_result"
    }
   ],
   "source": [
    "df"
   ]
  },
  {
   "cell_type": "markdown",
   "id": "be7c76e5",
   "metadata": {},
   "source": [
    "# Clean the Dataset"
   ]
  },
  {
   "cell_type": "code",
   "execution_count": 8,
   "id": "a7ffd494",
   "metadata": {},
   "outputs": [
    {
     "name": "stdout",
     "output_type": "stream",
     "text": [
      "  user_id                                  purchase_sequence  \\\n",
      "0   user1                                   [amazon, amazon]   \n",
      "1   user2                                 [flipkart, amazon]   \n",
      "2   user3  [flipkart, flipkart, amazon, myntra, myntra, a...   \n",
      "3   user4                                   [myntra, myntra]   \n",
      "4   user5  [amazon, amazon, myntra, flipkart, flipkart, a...   \n",
      "\n",
      "                                          timestamps  \\\n",
      "0                           [2024-01-15, 2024-01-09]   \n",
      "1                           [2024-01-06, 2024-01-14]   \n",
      "2  [2024-02-18, 2024-01-22, 2024-01-07, 2024-01-0...   \n",
      "3                           [2024-01-25, 2024-01-18]   \n",
      "4  [2024-02-16, 2024-01-16, 2024-01-11, 2024-01-3...   \n",
      "\n",
      "                                        amounts  \\\n",
      "0                                    [427, 102]   \n",
      "1                                    [169, 308]   \n",
      "2  [359, 185, 463, 72, 423, 285, 324, 113, 243]   \n",
      "3                                    [282, 375]   \n",
      "4                [377, 402, 335, 162, 400, 216]   \n",
      "\n",
      "                                          categories  \\\n",
      "0                                     [home, beauty]   \n",
      "1                                      [home, books]   \n",
      "2  [electronics, fashion, home, beauty, fashion, ...   \n",
      "3                              [beauty, electronics]   \n",
      "4  [beauty, home, fashion, electronics, fashion, ...   \n",
      "\n",
      "              encoded_sequence  \n",
      "0                       [2, 2]  \n",
      "1                       [1, 2]  \n",
      "2  [1, 1, 2, 0, 0, 2, 1, 2, 2]  \n",
      "3                       [0, 0]  \n",
      "4           [2, 2, 0, 1, 1, 2]  \n"
     ]
    }
   ],
   "source": [
    "# Data Cleaning\n",
    "def clean_data(df):\n",
    "    # Split the sequence columns into lists\n",
    "    df['purchase_sequence'] = df['purchase_sequence'].apply(lambda x: x.split(','))\n",
    "    df['timestamps'] = df['timestamps'].apply(lambda x: x.split(','))\n",
    "    df['amounts'] = df['amounts'].apply(lambda x: list(map(int, x.split(','))))\n",
    "    df['categories'] = df['categories'].apply(lambda x: x.split(','))\n",
    "     # Encode the purchase sequence\n",
    "    all_purchases = set([item for sublist in df['purchase_sequence'].tolist() for item in sublist])\n",
    "    purchase_encoder = {item: i for i, item in enumerate(all_purchases)}\n",
    "    df['encoded_sequence'] = df['purchase_sequence'].apply(lambda x: [purchase_encoder[item] for item in x])\n",
    "    \n",
    "    return df, purchase_encoder\n",
    "\n",
    "df, purchase_encoder = clean_data(df)\n",
    "print(df.head())\n",
    "\n",
    "    \n",
    "   "
   ]
  },
  {
   "cell_type": "markdown",
   "id": "b000e9ad",
   "metadata": {},
   "source": [
    "# Prepare Data for the Model\n",
    "3.1 Prepare Input and Output Sequences\n",
    "Ensure proper formatting of the input and output sequences."
   ]
  },
  {
   "cell_type": "code",
   "execution_count": 9,
   "id": "7b863805",
   "metadata": {},
   "outputs": [
    {
     "name": "stdout",
     "output_type": "stream",
     "text": [
      "(100, 10)\n",
      "(100, 10, 1)\n"
     ]
    }
   ],
   "source": [
    "from tensorflow.keras.preprocessing.sequence import pad_sequences\n",
    "import numpy as np\n",
    "\n",
    "# Define maximum sequence length\n",
    "max_sequence_length = max(df['encoded_sequence'].apply(len))\n",
    "\n",
    "# Prepare input and output sequences\n",
    "X = pad_sequences(df['encoded_sequence'], maxlen=max_sequence_length, padding='post')\n",
    "y = pad_sequences([seq[1:] + [0] for seq in df['encoded_sequence']], maxlen=max_sequence_length, padding='post')\n",
    "\n",
    "# Convert y to a 3D array required for sparse categorical crossentropy\n",
    "y = np.expand_dims(y, -1)\n",
    "\n",
    "print(X.shape)\n",
    "print(y.shape)\n"
   ]
  },
  {
   "cell_type": "markdown",
   "id": "a1c57dc4",
   "metadata": {},
   "source": [
    "# 3.2 Split Data into Training and Testing Sets\n",
    "python"
   ]
  },
  {
   "cell_type": "code",
   "execution_count": 10,
   "id": "6a66d90c",
   "metadata": {},
   "outputs": [],
   "source": [
    "from sklearn.model_selection import train_test_split\n",
    "\n",
    "# Split data into training and test sets\n",
    "X_train, X_test, y_train, y_test = train_test_split(X, y, test_size=0.2, random_state=42)\n"
   ]
  },
  {
   "cell_type": "markdown",
   "id": "bc9c1074",
   "metadata": {},
   "source": [
    "# Step 4: Develop the Model\n",
    "4.1 Define the Model Architecture"
   ]
  },
  {
   "cell_type": "code",
   "execution_count": 11,
   "id": "891b0765",
   "metadata": {},
   "outputs": [
    {
     "name": "stdout",
     "output_type": "stream",
     "text": [
      "Model: \"sequential\"\n",
      "_________________________________________________________________\n",
      " Layer (type)                Output Shape              Param #   \n",
      "=================================================================\n",
      " embedding (Embedding)       (None, 10, 50)            150       \n",
      "                                                                 \n",
      " lstm (LSTM)                 (None, 10, 100)           60400     \n",
      "                                                                 \n",
      " time_distributed (TimeDistr  (None, 10, 3)            303       \n",
      " ibuted)                                                         \n",
      "                                                                 \n",
      "=================================================================\n",
      "Total params: 60,853\n",
      "Trainable params: 60,853\n",
      "Non-trainable params: 0\n",
      "_________________________________________________________________\n"
     ]
    }
   ],
   "source": [
    "from tensorflow.keras.models import Sequential\n",
    "from tensorflow.keras.layers import LSTM, Dense, Embedding, TimeDistributed\n",
    "\n",
    "# Define the model\n",
    "model = Sequential([\n",
    "    Embedding(input_dim=len(purchase_encoder), output_dim=50, input_length=max_sequence_length),\n",
    "    LSTM(100, return_sequences=True),\n",
    "    TimeDistributed(Dense(len(purchase_encoder), activation='softmax'))\n",
    "])\n",
    "\n",
    "# Compile the model\n",
    "model.compile(optimizer='adam', loss='sparse_categorical_crossentropy', metrics=['accuracy'])\n",
    "model.summary()\n"
   ]
  },
  {
   "cell_type": "markdown",
   "id": "73eb2955",
   "metadata": {},
   "source": [
    "# 4.2 Train the Model"
   ]
  },
  {
   "cell_type": "code",
   "execution_count": 12,
   "id": "e4c58f7b",
   "metadata": {},
   "outputs": [
    {
     "name": "stdout",
     "output_type": "stream",
     "text": [
      "Epoch 1/20\n",
      "3/3 [==============================] - 5s 471ms/step - loss: 1.0848 - accuracy: 0.6675 - val_loss: 1.0550 - val_accuracy: 0.7100\n",
      "Epoch 2/20\n",
      "3/3 [==============================] - 0s 47ms/step - loss: 1.0377 - accuracy: 0.7450 - val_loss: 1.0048 - val_accuracy: 0.7100\n",
      "Epoch 3/20\n",
      "3/3 [==============================] - 0s 45ms/step - loss: 0.9775 - accuracy: 0.7450 - val_loss: 0.9358 - val_accuracy: 0.7100\n",
      "Epoch 4/20\n",
      "3/3 [==============================] - 0s 35ms/step - loss: 0.8963 - accuracy: 0.7450 - val_loss: 0.8412 - val_accuracy: 0.7100\n",
      "Epoch 5/20\n",
      "3/3 [==============================] - 0s 46ms/step - loss: 0.7835 - accuracy: 0.7450 - val_loss: 0.7370 - val_accuracy: 0.7100\n",
      "Epoch 6/20\n",
      "3/3 [==============================] - 0s 46ms/step - loss: 0.6731 - accuracy: 0.7450 - val_loss: 0.7017 - val_accuracy: 0.7100\n",
      "Epoch 7/20\n",
      "3/3 [==============================] - 0s 35ms/step - loss: 0.6455 - accuracy: 0.7450 - val_loss: 0.7605 - val_accuracy: 0.7100\n",
      "Epoch 8/20\n",
      "3/3 [==============================] - 0s 36ms/step - loss: 0.6782 - accuracy: 0.7450 - val_loss: 0.7868 - val_accuracy: 0.7100\n",
      "Epoch 9/20\n",
      "3/3 [==============================] - 0s 55ms/step - loss: 0.6835 - accuracy: 0.7450 - val_loss: 0.7549 - val_accuracy: 0.7100\n",
      "Epoch 10/20\n",
      "3/3 [==============================] - 0s 48ms/step - loss: 0.6575 - accuracy: 0.7450 - val_loss: 0.7145 - val_accuracy: 0.7100\n",
      "Epoch 11/20\n",
      "3/3 [==============================] - 0s 39ms/step - loss: 0.6393 - accuracy: 0.7450 - val_loss: 0.6942 - val_accuracy: 0.7100\n",
      "Epoch 12/20\n",
      "3/3 [==============================] - 0s 41ms/step - loss: 0.6335 - accuracy: 0.7450 - val_loss: 0.6919 - val_accuracy: 0.7100\n",
      "Epoch 13/20\n",
      "3/3 [==============================] - 0s 35ms/step - loss: 0.6396 - accuracy: 0.7450 - val_loss: 0.6926 - val_accuracy: 0.7100\n",
      "Epoch 14/20\n",
      "3/3 [==============================] - 0s 37ms/step - loss: 0.6404 - accuracy: 0.7450 - val_loss: 0.6907 - val_accuracy: 0.7100\n",
      "Epoch 15/20\n",
      "3/3 [==============================] - 0s 54ms/step - loss: 0.6361 - accuracy: 0.7450 - val_loss: 0.6888 - val_accuracy: 0.7100\n",
      "Epoch 16/20\n",
      "3/3 [==============================] - 0s 43ms/step - loss: 0.6304 - accuracy: 0.7450 - val_loss: 0.6898 - val_accuracy: 0.7100\n",
      "Epoch 17/20\n",
      "3/3 [==============================] - 0s 41ms/step - loss: 0.6276 - accuracy: 0.7450 - val_loss: 0.6935 - val_accuracy: 0.7100\n",
      "Epoch 18/20\n",
      "3/3 [==============================] - 0s 35ms/step - loss: 0.6277 - accuracy: 0.7450 - val_loss: 0.6972 - val_accuracy: 0.7100\n",
      "Epoch 19/20\n",
      "3/3 [==============================] - 0s 45ms/step - loss: 0.6280 - accuracy: 0.7450 - val_loss: 0.6974 - val_accuracy: 0.7100\n",
      "Epoch 20/20\n",
      "3/3 [==============================] - 0s 48ms/step - loss: 0.6270 - accuracy: 0.7450 - val_loss: 0.6942 - val_accuracy: 0.7100\n"
     ]
    }
   ],
   "source": [
    "# Train the model\n",
    "history = model.fit(X_train, y_train, epochs=20, batch_size=32, validation_data=(X_test, y_test))\n"
   ]
  },
  {
   "cell_type": "markdown",
   "id": "b22c5769",
   "metadata": {},
   "source": [
    "# Step 5: Evaluate the Model\n",
    "5.1 Plot Training and Validation Accuracy and Loss"
   ]
  },
  {
   "cell_type": "code",
   "execution_count": 13,
   "id": "77687cc7",
   "metadata": {},
   "outputs": [
    {
     "data": {
      "image/png": "[encoded data removed]",
      "text/plain": [
       "<Figure size 864x432 with 1 Axes>"
      ]
     },
     "metadata": {
      "needs_background": "light"
     },
     "output_type": "display_data"
    },
    {
     "data": {
      "image/png": "[encoded data removed]",
      "text/plain": [
       "<Figure size 864x432 with 1 Axes>"
      ]
     },
     "metadata": {
      "needs_background": "light"
     },
     "output_type": "display_data"
    }
   ],
   "source": [
    "import matplotlib.pyplot as plt\n",
    "\n",
    "# Plot training & validation accuracy values\n",
    "plt.figure(figsize=(12, 6))\n",
    "plt.plot(history.history['accuracy'])\n",
    "plt.plot(history.history['val_accuracy'])\n",
    "plt.title('Model accuracy')\n",
    "plt.ylabel('Accuracy')\n",
    "plt.xlabel('Epoch')\n",
    "plt.legend(['Train', 'Test'], loc='upper left')\n",
    "plt.show()\n",
    "\n",
    "# Plot training & validation loss values\n",
    "plt.figure(figsize=(12, 6))\n",
    "plt.plot(history.history['loss'])\n",
    "plt.plot(history.history['val_loss'])\n",
    "plt.title('Model loss')\n",
    "plt.ylabel('Loss')\n",
    "plt.xlabel('Epoch')\n",
    "plt.legend(['Train', 'Test'], loc='upper left')\n",
    "plt.show()\n"
   ]
  },
  {
   "cell_type": "markdown",
   "id": "6d27dc52",
   "metadata": {},
   "source": [
    "# 5.2 Evaluate the Model on Test Data"
   ]
  },
  {
   "cell_type": "code",
   "execution_count": 14,
   "id": "5ce3ae12",
   "metadata": {},
   "outputs": [
    {
     "name": "stdout",
     "output_type": "stream",
     "text": [
      "1/1 [==============================] - 0s 46ms/step - loss: 0.6942 - accuracy: 0.7100\n",
      "Test Loss: 0.6942486763000488\n",
      "Test Accuracy: 0.7099999785423279\n"
     ]
    }
   ],
   "source": [
    "# Evaluate the model\n",
    "loss, accuracy = model.evaluate(X_test, y_test)\n",
    "print(f'Test Loss: {loss}')\n",
    "print(f'Test Accuracy: {accuracy}')\n"
   ]
  },
  {
   "cell_type": "markdown",
   "id": "48be8c1b",
   "metadata": {},
   "source": [
    "# Step 6: Save the Model"
   ]
  },
  {
   "cell_type": "code",
   "execution_count": 15,
   "id": "d173d7da",
   "metadata": {},
   "outputs": [
    {
     "name": "stdout",
     "output_type": "stream",
     "text": [
      "Model saved as 'purchase_prediction_model.h5'\n"
     ]
    }
   ],
   "source": [
    "# Save the model\n",
    "model.save('purchase_prediction_model.h5')\n",
    "print(\"Model saved as 'purchase_prediction_model.h5'\")\n"
   ]
  },
  {
   "cell_type": "markdown",
   "id": "9eb909dc",
   "metadata": {},
   "source": [
    "# Make Predictions for a Recommendation System"
   ]
  },
  {
   "cell_type": "markdown",
   "id": "ae37e274",
   "metadata": {},
   "source": [
    "load the necessary libraries, the trained model, and the purchase encoder."
   ]
  },
  {
   "cell_type": "code",
   "execution_count": 19,
   "id": "e46c1511",
   "metadata": {},
   "outputs": [],
   "source": [
    "import pandas as pd\n",
    "import numpy as np\n",
    "from tensorflow.keras.models import load_model\n",
    "from tensorflow.keras.preprocessing.sequence import pad_sequences\n",
    "\n",
    "# Load the trained model\n",
    "model = load_model('purchase_prediction_model.h5')\n",
    "\n",
    "# Ensure the purchase_encoder dictionary is available\n",
    "# This should match the original encoding used during training\n",
    "purchase_encoder = {\n",
    "    'amazon': 0,\n",
    "    'flipkart': 1,\n",
    "    'myntra': 2,\n",
    "    'electronics': 3,\n",
    "    'fashion': 4,\n",
    "    'books': 5,\n",
    "    'home': 6,\n",
    "    'beauty': 7\n",
    "}\n",
    "purchase_decoder = {v: k for k, v in purchase_encoder.items()}\n",
    "\n"
   ]
  },
  {
   "cell_type": "markdown",
   "id": "bb8001fc",
   "metadata": {},
   "source": [
    "# Step 2: Prepare the Recommendation Function\n",
    "Create a function that will take the user's purchase history, process it, and generate recommendations.\n"
   ]
  },
  {
   "cell_type": "code",
   "execution_count": 20,
   "id": "cb627589",
   "metadata": {},
   "outputs": [],
   "source": [
    "def recommend_next_purchases(model, purchase_encoder, purchase_decoder, input_sequence, max_sequence_length, top_n=3):\n",
    "    # Encode the input sequence\n",
    "    encoded_sequence = [purchase_encoder[item] for item in input_sequence if item in purchase_encoder]\n",
    "    \n",
    "    # Pad the input sequence\n",
    "    padded_sequence = pad_sequences([encoded_sequence], maxlen=max_sequence_length, padding='post')\n",
    "    \n",
    "    # Predict the next purchase probabilities\n",
    "    predictions = model.predict(padded_sequence)[0]\n",
    "    \n",
    "    # Get the last prediction (for the next item in the sequence)\n",
    "    next_purchase_probs = predictions[-1]\n",
    "    \n",
    "    # Get top N recommendations\n",
    "    top_indices = next_purchase_probs.argsort()[-top_n:][::-1]\n",
    "    top_recommendations = [purchase_decoder[idx] for idx in top_indices]\n",
    "    \n",
    "    return top_recommendations\n"
   ]
  },
  {
   "cell_type": "markdown",
   "id": "883c3737",
   "metadata": {},
   "source": [
    "# Step 3: Generate Recommendations\n",
    "Use the function to generate recommendations based on a sample input sequence"
   ]
  },
  {
   "cell_type": "code",
   "execution_count": 21,
   "id": "b9bd4793",
   "metadata": {},
   "outputs": [
    {
     "name": "stdout",
     "output_type": "stream",
     "text": [
      "1/1 [==============================] - 1s 798ms/step\n",
      "Recommendations for next purchases: ['amazon', 'flipkart', 'myntra']\n"
     ]
    }
   ],
   "source": [
    "# Define maximum sequence length (should match the length used during training)\n",
    "max_sequence_length = 10  # Example value, should be adjusted to match your training configuration\n",
    "\n",
    "# Sample user input sequence\n",
    "sample_input_sequence = ['amazon', 'flipkart', 'myntra']\n",
    "\n",
    "# Generate recommendations\n",
    "recommendations = recommend_next_purchases(model, purchase_encoder, purchase_decoder, sample_input_sequence, max_sequence_length)\n",
    "print(f\"Recommendations for next purchases: {recommendations}\")\n"
   ]
  },
  {
   "cell_type": "code",
   "execution_count": null,
   "id": "2ac4a995",
   "metadata": {},
   "outputs": [],
   "source": []
  }
 ],
 "metadata": {
  "kernelspec": {
   "display_name": "Python 3 (ipykernel)",
   "language": "python",
   "name": "python3"
  },
  "language_info": {
   "codemirror_mode": {
    "name": "ipython",
    "version": 3
   },
   "file_extension": ".py",
   "mimetype": "text/x-python",
   "name": "python",
   "nbconvert_exporter": "python",
   "pygments_lexer": "ipython3",
   "version": "3.9.7"
  }
 },
 "nbformat": 4,
 "nbformat_minor": 5
}
